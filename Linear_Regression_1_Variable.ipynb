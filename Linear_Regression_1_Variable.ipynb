{
  "nbformat": 4,
  "nbformat_minor": 0,
  "metadata": {
    "colab": {
      "provenance": [],
      "authorship_tag": "ABX9TyPRjnPScmKr/nNdWSfsORnE",
      "include_colab_link": true
    },
    "kernelspec": {
      "name": "python3",
      "display_name": "Python 3"
    },
    "language_info": {
      "name": "python"
    }
  },
  "cells": [
    {
      "cell_type": "markdown",
      "metadata": {
        "id": "view-in-github",
        "colab_type": "text"
      },
      "source": [
        "<a href=\"https://colab.research.google.com/github/Auzek2002/Linear_Regression_1_Var_ML/blob/main/Linear_Regression_1_Variable.ipynb\" target=\"_parent\"><img src=\"https://colab.research.google.com/assets/colab-badge.svg\" alt=\"Open In Colab\"/></a>"
      ]
    },
    {
      "cell_type": "markdown",
      "source": [
        "Importing The Libraries:\n"
      ],
      "metadata": {
        "id": "Bgck1Ba5wvH_"
      }
    },
    {
      "cell_type": "code",
      "source": [
        "import numpy as np\n",
        "import matplotlib.pyplot as plt\n",
        "import math,copy"
      ],
      "metadata": {
        "id": "9mX3y0fDwz3J"
      },
      "execution_count": 57,
      "outputs": []
    },
    {
      "cell_type": "markdown",
      "source": [
        "Model for Linear Regression:\n"
      ],
      "metadata": {
        "id": "ckQDK1CPyA-t"
      }
    },
    {
      "cell_type": "code",
      "source": [
        "def model(x,w,b):\n",
        "  m=x.shape[0]\n",
        "  f_wb= np.zeros(m)\n",
        "  for i in range (m):\n",
        "    f_wb[i]= w*x[i]+b\n",
        "\n",
        "  return f_wb"
      ],
      "metadata": {
        "id": "zSrSUsQMw64B"
      },
      "execution_count": 56,
      "outputs": []
    },
    {
      "cell_type": "markdown",
      "source": [
        "Computing the cost (Cost Function):"
      ],
      "metadata": {
        "id": "4E1g51IeyGhM"
      }
    },
    {
      "cell_type": "code",
      "source": [
        "def compute_cost(x,y,w,b):\n",
        "  m=x.shape[0]\n",
        "  cost =0\n",
        "  for i in range (m):\n",
        "    f_wb= w*x[i]+b\n",
        "    cost+= (f_wb-y[i])**2\n",
        "  total_cost = (1/2*m)*cost\n",
        "  return total_cost"
      ],
      "metadata": {
        "id": "e3n-gtuSyKfR"
      },
      "execution_count": 58,
      "outputs": []
    },
    {
      "cell_type": "markdown",
      "source": [
        "Calculating gradiant of j(w,b) with respect to w and j(w,b) with respect to b:"
      ],
      "metadata": {
        "id": "HJm5rRdIy3CV"
      }
    },
    {
      "cell_type": "code",
      "source": [
        "def compute_gradiant(x,y,w,b):\n",
        "  m=x.shape[0]\n",
        "  dj_dw=0\n",
        "  dj_db=0\n",
        "  for i in range (m):\n",
        "    f_wb=w*x[i]+b\n",
        "    dj_dw_i=(f_wb-y[i])*x[i]\n",
        "    dj_db_i= f_wb-y[i]\n",
        "    dj_db+=dj_db_i\n",
        "    dj_dw+=dj_dw_i\n",
        "\n",
        "  dj_dw = dj_dw/m\n",
        "  dj_db = dj_db/m\n",
        "\n",
        "  return dj_dw, dj_db\n",
        "\n",
        "\n",
        "\n"
      ],
      "metadata": {
        "id": "M6S3iL6Kyyb3"
      },
      "execution_count": 59,
      "outputs": []
    },
    {
      "cell_type": "markdown",
      "source": [
        "Gradient Descent Algo:"
      ],
      "metadata": {
        "id": "53fkTtm51CIv"
      }
    },
    {
      "cell_type": "code",
      "source": [
        "def gradiant_descent(x,y,w_in,b_in,alpha,num_iters,cost_function,gradiant_function):\n",
        "  j_history=[]\n",
        "  p_history=[]\n",
        "  w=w_in\n",
        "  b=b_in\n",
        "  for i in range (num_iters):\n",
        "    dj_dw,dj_db= gradiant_function(x,y,w,b)\n",
        "    w=w-alpha*dj_dw\n",
        "    b=b-alpha*dj_db\n",
        "\n",
        "    #for plotting save j and w,b values:\n",
        "    j_history.append(cost_function(x,y,w,b))\n",
        "    p_history.append([w,b])\n",
        "\n",
        "    #print out the cost for every 10 intervals:\n",
        "    if i% math.ceil(num_iters/10) == 0:\n",
        "      print(f\"iteration : {i:4}, cost: {j_history[-1]:0.2e}, \",\n",
        "            f\"dj_dw: {dj_dw:0.3e}, dj_db: {dj_db:0.3e}, \"\n",
        "            f\"w: {w:0.3e}, b: {b: 0.3e}\")\n",
        "\n",
        "  return w,b,j_history,p_history\n"
      ],
      "metadata": {
        "id": "uttzob670_GP"
      },
      "execution_count": 60,
      "outputs": []
    },
    {
      "cell_type": "markdown",
      "source": [
        "Using the Gradiant Descent Algo:"
      ],
      "metadata": {
        "id": "qiVivGAj3uZa"
      }
    },
    {
      "cell_type": "code",
      "source": [
        "w_init=0\n",
        "b_init=0\n",
        "iterations=12\n",
        "alpha=1.0e-1\n",
        "x_train=np.array([1.0,1.8,2.0,2.5,3.1,3.5,3.8,4.3,4.5,5.1,5.5,5.8])\n",
        "y_train=np.array([250.0,300.0,320.0,350.0,410.0,440.0,480.0,520.0,570.0,620.0,660.0,685.0])\n",
        "w_final,b_final,j_hist,p_hist= gradiant_descent(x_train,y_train,w_init,b_init,alpha,iterations,compute_cost,compute_gradiant)\n",
        "\n",
        "print(f\"Final Value of W is: {w_final:8.4f} and the Final Value of B is: {b_final:8.4f} \")"
      ],
      "metadata": {
        "colab": {
          "base_uri": "https://localhost:8080/"
        },
        "id": "f8QrD2jE3rGl",
        "outputId": "d607e982-3eaa-4e83-a4dd-e8432458f0d1"
      },
      "execution_count": 74,
      "outputs": [
        {
          "output_type": "stream",
          "name": "stdout",
          "text": [
            "iteration :    0, cost: 5.87e+06,  dj_dw: -1.876e+03, dj_db: -4.671e+02, w: 1.876e+02, b:  4.671e+01\n",
            "iteration :    2, cost: 7.67e+05,  dj_dw: -6.321e+02, dj_db: -1.667e+02, w: 1.412e+02, b:  3.836e+01\n",
            "iteration :    4, cost: 1.80e+05,  dj_dw: -2.117e+02, dj_db: -6.482e+01, w: 1.251e+02, b:  3.724e+01\n",
            "iteration :    6, cost: 1.08e+05,  dj_dw: -6.961e+01, dj_db: -3.015e+01, w: 1.192e+02, b:  3.852e+01\n",
            "iteration :    8, cost: 9.61e+04,  dj_dw: -2.161e+01, dj_db: -1.821e+01, w: 1.169e+02, b:  4.057e+01\n",
            "iteration :   10, cost: 9.08e+04,  dj_dw: -5.426e+00, dj_db: -1.395e+01, w: 1.157e+02, b:  4.283e+01\n",
            "Final Value of W is: 114.9357 and the Final Value of B is:  43.8929 \n"
          ]
        }
      ]
    },
    {
      "cell_type": "markdown",
      "source": [
        "Plotting the graph with the values of W and b:"
      ],
      "metadata": {
        "id": "k-ZBo3pg78uB"
      }
    },
    {
      "cell_type": "code",
      "source": [
        "f_wb=model(x_train,w_final,b_final,)\n",
        "plt.plot(x_train,f_wb,c=\"r\",label=\"Prediction\")\n",
        "plt.scatter(x_train,y_train,marker=\"x\",c=\"b\",label=\"Actual\")\n",
        "plt.title(\"Housing Prices| Linear Regression\")\n",
        "plt.xlabel(\"Size (1000 sqft)\")\n",
        "plt.ylabel(\"Price (in 1000s of dollars)\")\n",
        "plt.legend()\n",
        "plt.show()"
      ],
      "metadata": {
        "colab": {
          "base_uri": "https://localhost:8080/",
          "height": 472
        },
        "id": "_Xd7s5i88EXI",
        "outputId": "cee29971-fe4e-4b5d-9aac-bfd7307c6013"
      },
      "execution_count": 77,
      "outputs": [
        {
          "output_type": "display_data",
          "data": {
            "text/plain": [
              "<Figure size 640x480 with 1 Axes>"
            ],
            "image/png": "[encoded data removed]"
          },
          "metadata": {}
        }
      ]
    },
    {
      "cell_type": "markdown",
      "source": [
        "Making Predictions:"
      ],
      "metadata": {
        "id": "RiDRQUId-djp"
      }
    },
    {
      "cell_type": "code",
      "source": [
        "#say I Want to find the price of a house which is 1250 sqft i.e -> 1.25\n",
        "size= input(\"Enter the Size of the house you want the price of: \")\n",
        "print(f\"The Price of a house of size: {size} (in 1000 sqft) is around : {w_final*float(size) + b_final:0.1f} (in 1000s of dollars)\")\n"
      ],
      "metadata": {
        "colab": {
          "base_uri": "https://localhost:8080/"
        },
        "id": "cGFeD0kP-fit",
        "outputId": "4b87efbf-0196-4d34-e839-d2d4803b6bdf"
      },
      "execution_count": 90,
      "outputs": [
        {
          "output_type": "stream",
          "name": "stdout",
          "text": [
            "Enter the Size of the house you want the price of: 1.25\n",
            "The Price of a house of size: 1.25 (in 1000 sqft) is around : 187.6 (in 1000s of dollars)\n"
          ]
        }
      ]
    },
    {
      "cell_type": "code",
      "source": [],
      "metadata": {
        "id": "cb4KUZDA_xxh"
      },
      "execution_count": null,
      "outputs": []
    }
  ]
}